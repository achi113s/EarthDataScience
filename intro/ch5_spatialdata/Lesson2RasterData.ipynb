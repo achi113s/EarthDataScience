{
 "cells": [
  {
   "cell_type": "markdown",
   "id": "b6356fa4",
   "metadata": {},
   "source": [
    "# Lesson 2. Use Raster Data for Earth Data Science\n",
    "\n",
    "Raster or \"gridded\" data are stores as a grid of values which are rendered on a map as pixels. Each pixel value represents an area on the Earth's surface making the data \"spatial.\" All of the cells in the grid are the same size.\n",
    "\n",
    "The raster files we will work with here are spatially referenced, meaning that each pixel represents an area of land on the ground. That area is defined by the spatial `resolution` of the raster."
   ]
  },
  {
   "cell_type": "markdown",
   "id": "18facaf0",
   "metadata": {},
   "source": [
    "|![raster_demo](https://www.earthdatascience.org/images/earth-analytics/raster-data/raster-concept.png)| \n",
    "|:--:| \n",
    "| *Structure of a Raster, i.e. a regular grid of same-sized cells* |"
   ]
  },
  {
   "cell_type": "markdown",
   "id": "7aa9b32c",
   "metadata": {},
   "source": [
    "### Raster Data Can Have One or More Layers\n",
    "\n",
    "Raster data can be composed of one or more layers. For example, a raster file detailing elevation will often have just one layer representing the elevation of the Earth's surface for a particular location. However, other data including images and time series data may result in a raster file with multiple layers.\n",
    "\n",
    "### There Are Many Different Raster File Formats\n",
    "\n",
    "Raster data can be stored in a single file. Some datasets such as landsat (a U.S. scientific satellite that studies and photographs the earth's surface by using remote-sensing techniques) and NAIP (National Agriculture Imagery Program) are stored in single files. For landsat, often each band will be stored as a separate \\*.tif file. NAIP stores all bands in one \\*.tif file though:\n",
    "\n",
    "* .tif / .tiff: Tagged Image File Format. Common method of storing data, esepcially from Landsat.\n",
    "* .asc: ASCII Raster Files. Text based format that stores raster data. The format is simple to store and distribute.\n",
    "\n",
    "\n",
    "Rasters can also be stored in hierarchical data formats. These formats are optimal for larger data sets where we may want to subset or only work with parts of the data at one time. Hierarchical data can be a bit more involved to work with but they tend to make processing more efficient.\n",
    "\n",
    "* .hdf / .hdf5: Hierarchical Data Format. One of the most common hierarchical ways to store raster data.\n",
    "* .nc (NetCDF): Network Common Data Form. Common way to store climate data."
   ]
  },
  {
   "cell_type": "markdown",
   "id": "888eca36",
   "metadata": {},
   "source": [
    "### Types of Data Stored in Rasters\n",
    "\n",
    "Data typically provided in raster format:\n",
    "\n",
    "* Satellite imagery\n",
    "* Land use over large areas\n",
    "* Elevation data\n",
    "* Weather data\n",
    "* Bathymetry data\n",
    "\n",
    "Let's practice by opening and working with some raster data:"
   ]
  },
  {
   "cell_type": "code",
   "execution_count": null,
   "id": "babfc64d",
   "metadata": {},
   "outputs": [],
   "source": [
    "import os \n",
    "\n",
    "import matplotlit.pyplot as plt\n",
    "import numpy as np\n",
    "import geopandas as gpd\n",
    "import rioxarray as rxr\n",
    "\n",
    "import earthpy as et\n",
    "import earthpy.plot as ep\n",
    "\n",
    "# get the data and set working directory\n",
    "et.data.get_data(\"colorado-flood\")\n",
    "os.chdir(os.path.join(et.io.HOME, 'earth-analytics', 'data'))"
   ]
  }
 ],
 "metadata": {
  "kernelspec": {
   "display_name": "Python 3 (ipykernel)",
   "language": "python",
   "name": "python3"
  },
  "language_info": {
   "codemirror_mode": {
    "name": "ipython",
    "version": 3
   },
   "file_extension": ".py",
   "mimetype": "text/x-python",
   "name": "python",
   "nbconvert_exporter": "python",
   "pygments_lexer": "ipython3",
   "version": "3.9.10"
  }
 },
 "nbformat": 4,
 "nbformat_minor": 5
}
